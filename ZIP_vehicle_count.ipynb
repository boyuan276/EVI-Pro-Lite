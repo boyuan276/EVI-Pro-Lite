{
 "cells": [
  {
   "attachments": {},
   "cell_type": "markdown",
   "metadata": {},
   "source": [
    "# Packages"
   ]
  },
  {
   "cell_type": "code",
   "execution_count": 1,
   "metadata": {},
   "outputs": [],
   "source": [
    "import os\n",
    "import numpy as np\n",
    "import pandas as pd"
   ]
  },
  {
   "cell_type": "code",
   "execution_count": 2,
   "metadata": {},
   "outputs": [
    {
     "name": "stdout",
     "output_type": "stream",
     "text": [
      "Data directory: d:\\EERL\\EV\\EVI-Pro-Lite\\NYSERDA_Data\n"
     ]
    }
   ],
   "source": [
    "# Set up path directory\n",
    "cwd = os.getcwd()\n",
    "data_dir = os.path.join(cwd, 'NYSERDA_Data')\n",
    "print(f'Data directory: {data_dir}')"
   ]
  },
  {
   "attachments": {},
   "cell_type": "markdown",
   "metadata": {},
   "source": [
    "# Current vehicle count"
   ]
  },
  {
   "cell_type": "code",
   "execution_count": 38,
   "metadata": {},
   "outputs": [],
   "source": [
    "# Read NYS zip code data\n",
    "zipcode_df = pd.read_csv(os.path.join(data_dir, 'nys_zipcode.csv'))\n",
    "zipcode_df = zipcode_df[['ZIP Code', 'County']]\n"
   ]
  },
  {
   "cell_type": "code",
   "execution_count": 32,
   "metadata": {},
   "outputs": [
    {
     "data": {
      "text/html": [
       "<div>\n",
       "<style scoped>\n",
       "    .dataframe tbody tr th:only-of-type {\n",
       "        vertical-align: middle;\n",
       "    }\n",
       "\n",
       "    .dataframe tbody tr th {\n",
       "        vertical-align: top;\n",
       "    }\n",
       "\n",
       "    .dataframe thead th {\n",
       "        text-align: right;\n",
       "    }\n",
       "</style>\n",
       "<table border=\"1\" class=\"dataframe\">\n",
       "  <thead>\n",
       "    <tr style=\"text-align: right;\">\n",
       "      <th></th>\n",
       "      <th>Vehicle Count</th>\n",
       "      <th>ZIP Code</th>\n",
       "      <th>RegistrationMonth</th>\n",
       "      <th>Vehicle_Index</th>\n",
       "      <th>DMV_ID</th>\n",
       "      <th>Registration_Valid_Date</th>\n",
       "      <th>County_GEOID</th>\n",
       "    </tr>\n",
       "  </thead>\n",
       "  <tbody>\n",
       "    <tr>\n",
       "      <th>0</th>\n",
       "      <td>1</td>\n",
       "      <td>14150</td>\n",
       "      <td>3/1/2023</td>\n",
       "      <td>203055</td>\n",
       "      <td>73</td>\n",
       "      <td>2023-03-21 00:00:00.000</td>\n",
       "      <td>NaN</td>\n",
       "    </tr>\n",
       "    <tr>\n",
       "      <th>1</th>\n",
       "      <td>1</td>\n",
       "      <td>11372</td>\n",
       "      <td>3/1/2023</td>\n",
       "      <td>62208</td>\n",
       "      <td>73</td>\n",
       "      <td>2023-03-21 00:00:00.000</td>\n",
       "      <td>NaN</td>\n",
       "    </tr>\n",
       "    <tr>\n",
       "      <th>2</th>\n",
       "      <td>1</td>\n",
       "      <td>10940</td>\n",
       "      <td>3/1/2023</td>\n",
       "      <td>715613</td>\n",
       "      <td>73</td>\n",
       "      <td>2023-03-21 00:00:00.000</td>\n",
       "      <td>NaN</td>\n",
       "    </tr>\n",
       "    <tr>\n",
       "      <th>3</th>\n",
       "      <td>1</td>\n",
       "      <td>14136</td>\n",
       "      <td>3/1/2023</td>\n",
       "      <td>11732</td>\n",
       "      <td>73</td>\n",
       "      <td>2023-03-21 00:00:00.000</td>\n",
       "      <td>NaN</td>\n",
       "    </tr>\n",
       "    <tr>\n",
       "      <th>4</th>\n",
       "      <td>1</td>\n",
       "      <td>11021</td>\n",
       "      <td>3/1/2023</td>\n",
       "      <td>68814</td>\n",
       "      <td>73</td>\n",
       "      <td>2023-03-21 00:00:00.000</td>\n",
       "      <td>NaN</td>\n",
       "    </tr>\n",
       "  </tbody>\n",
       "</table>\n",
       "</div>"
      ],
      "text/plain": [
       "   Vehicle Count  ZIP Code RegistrationMonth  Vehicle_Index  DMV_ID  \\\n",
       "0              1     14150          3/1/2023         203055      73   \n",
       "1              1     11372          3/1/2023          62208      73   \n",
       "2              1     10940          3/1/2023         715613      73   \n",
       "3              1     14136          3/1/2023          11732      73   \n",
       "4              1     11021          3/1/2023          68814      73   \n",
       "\n",
       "   Registration_Valid_Date  County_GEOID  \n",
       "0  2023-03-21 00:00:00.000           NaN  \n",
       "1  2023-03-21 00:00:00.000           NaN  \n",
       "2  2023-03-21 00:00:00.000           NaN  \n",
       "3  2023-03-21 00:00:00.000           NaN  \n",
       "4  2023-03-21 00:00:00.000           NaN  "
      ]
     },
     "execution_count": 32,
     "metadata": {},
     "output_type": "execute_result"
    }
   ],
   "source": [
    "# Read current vehicle registration data\n",
    "vehicle_df = pd.read_csv(os.path.join(data_dir, 'Current Registrations.csv'))\n",
    "\n",
    "# Drop rows with missing ZIP Code\n",
    "vehicle_df = vehicle_df[vehicle_df['ZIP Code'] != 'Error']\n",
    "\n",
    "# Filter for NYS zip codes\n",
    "vehicle_df['ZIP Code'] = vehicle_df['ZIP Code'].astype(int)\n",
    "vehicle_df = vehicle_df[vehicle_df['ZIP Code'].isin(zipcode_df['ZIP Code'])]\n"
   ]
  },
  {
   "cell_type": "code",
   "execution_count": 40,
   "metadata": {},
   "outputs": [
    {
     "data": {
      "text/html": [
       "<div>\n",
       "<style scoped>\n",
       "    .dataframe tbody tr th:only-of-type {\n",
       "        vertical-align: middle;\n",
       "    }\n",
       "\n",
       "    .dataframe tbody tr th {\n",
       "        vertical-align: top;\n",
       "    }\n",
       "\n",
       "    .dataframe thead th {\n",
       "        text-align: right;\n",
       "    }\n",
       "</style>\n",
       "<table border=\"1\" class=\"dataframe\">\n",
       "  <thead>\n",
       "    <tr style=\"text-align: right;\">\n",
       "      <th></th>\n",
       "      <th>ZIP Code</th>\n",
       "      <th>Vehicle Count</th>\n",
       "    </tr>\n",
       "  </thead>\n",
       "  <tbody>\n",
       "    <tr>\n",
       "      <th>0</th>\n",
       "      <td>6390</td>\n",
       "      <td>552</td>\n",
       "    </tr>\n",
       "    <tr>\n",
       "      <th>1</th>\n",
       "      <td>10001</td>\n",
       "      <td>4838</td>\n",
       "    </tr>\n",
       "    <tr>\n",
       "      <th>2</th>\n",
       "      <td>10002</td>\n",
       "      <td>11645</td>\n",
       "    </tr>\n",
       "    <tr>\n",
       "      <th>3</th>\n",
       "      <td>10003</td>\n",
       "      <td>6353</td>\n",
       "    </tr>\n",
       "    <tr>\n",
       "      <th>4</th>\n",
       "      <td>10004</td>\n",
       "      <td>1564</td>\n",
       "    </tr>\n",
       "    <tr>\n",
       "      <th>...</th>\n",
       "      <td>...</td>\n",
       "      <td>...</td>\n",
       "    </tr>\n",
       "    <tr>\n",
       "      <th>2107</th>\n",
       "      <td>14901</td>\n",
       "      <td>7832</td>\n",
       "    </tr>\n",
       "    <tr>\n",
       "      <th>2108</th>\n",
       "      <td>14902</td>\n",
       "      <td>179</td>\n",
       "    </tr>\n",
       "    <tr>\n",
       "      <th>2109</th>\n",
       "      <td>14903</td>\n",
       "      <td>6386</td>\n",
       "    </tr>\n",
       "    <tr>\n",
       "      <th>2110</th>\n",
       "      <td>14904</td>\n",
       "      <td>9756</td>\n",
       "    </tr>\n",
       "    <tr>\n",
       "      <th>2111</th>\n",
       "      <td>14905</td>\n",
       "      <td>6516</td>\n",
       "    </tr>\n",
       "  </tbody>\n",
       "</table>\n",
       "<p>2112 rows × 2 columns</p>\n",
       "</div>"
      ],
      "text/plain": [
       "      ZIP Code  Vehicle Count\n",
       "0         6390            552\n",
       "1        10001           4838\n",
       "2        10002          11645\n",
       "3        10003           6353\n",
       "4        10004           1564\n",
       "...        ...            ...\n",
       "2107     14901           7832\n",
       "2108     14902            179\n",
       "2109     14903           6386\n",
       "2110     14904           9756\n",
       "2111     14905           6516\n",
       "\n",
       "[2112 rows x 2 columns]"
      ]
     },
     "execution_count": 40,
     "metadata": {},
     "output_type": "execute_result"
    }
   ],
   "source": [
    "# Group by zip code and sum vehicle count\n",
    "vehicle_by_zip = vehicle_df.groupby('ZIP Code')['Vehicle Count'].sum().reset_index()\n",
    "vehicle_by_zip"
   ]
  },
  {
   "cell_type": "code",
   "execution_count": 41,
   "metadata": {},
   "outputs": [
    {
     "data": {
      "text/html": [
       "<div>\n",
       "<style scoped>\n",
       "    .dataframe tbody tr th:only-of-type {\n",
       "        vertical-align: middle;\n",
       "    }\n",
       "\n",
       "    .dataframe tbody tr th {\n",
       "        vertical-align: top;\n",
       "    }\n",
       "\n",
       "    .dataframe thead th {\n",
       "        text-align: right;\n",
       "    }\n",
       "</style>\n",
       "<table border=\"1\" class=\"dataframe\">\n",
       "  <thead>\n",
       "    <tr style=\"text-align: right;\">\n",
       "      <th></th>\n",
       "      <th>County</th>\n",
       "      <th>Vehicle Count</th>\n",
       "    </tr>\n",
       "  </thead>\n",
       "  <tbody>\n",
       "    <tr>\n",
       "      <th>0</th>\n",
       "      <td>Albany County</td>\n",
       "      <td>236214</td>\n",
       "    </tr>\n",
       "    <tr>\n",
       "      <th>1</th>\n",
       "      <td>Allegany County</td>\n",
       "      <td>36836</td>\n",
       "    </tr>\n",
       "    <tr>\n",
       "      <th>2</th>\n",
       "      <td>Bronx County</td>\n",
       "      <td>295553</td>\n",
       "    </tr>\n",
       "    <tr>\n",
       "      <th>3</th>\n",
       "      <td>Broome County</td>\n",
       "      <td>147283</td>\n",
       "    </tr>\n",
       "    <tr>\n",
       "      <th>4</th>\n",
       "      <td>Cattaraugus County</td>\n",
       "      <td>60274</td>\n",
       "    </tr>\n",
       "    <tr>\n",
       "      <th>...</th>\n",
       "      <td>...</td>\n",
       "      <td>...</td>\n",
       "    </tr>\n",
       "    <tr>\n",
       "      <th>58</th>\n",
       "      <td>Washington County</td>\n",
       "      <td>58142</td>\n",
       "    </tr>\n",
       "    <tr>\n",
       "      <th>59</th>\n",
       "      <td>Wayne County</td>\n",
       "      <td>87527</td>\n",
       "    </tr>\n",
       "    <tr>\n",
       "      <th>60</th>\n",
       "      <td>Westchester County</td>\n",
       "      <td>684472</td>\n",
       "    </tr>\n",
       "    <tr>\n",
       "      <th>61</th>\n",
       "      <td>Wyoming County</td>\n",
       "      <td>35948</td>\n",
       "    </tr>\n",
       "    <tr>\n",
       "      <th>62</th>\n",
       "      <td>Yates County</td>\n",
       "      <td>20428</td>\n",
       "    </tr>\n",
       "  </tbody>\n",
       "</table>\n",
       "<p>63 rows × 2 columns</p>\n",
       "</div>"
      ],
      "text/plain": [
       "                County  Vehicle Count\n",
       "0        Albany County         236214\n",
       "1      Allegany County          36836\n",
       "2         Bronx County         295553\n",
       "3        Broome County         147283\n",
       "4   Cattaraugus County          60274\n",
       "..                 ...            ...\n",
       "58   Washington County          58142\n",
       "59        Wayne County          87527\n",
       "60  Westchester County         684472\n",
       "61      Wyoming County          35948\n",
       "62        Yates County          20428\n",
       "\n",
       "[63 rows x 2 columns]"
      ]
     },
     "execution_count": 41,
     "metadata": {},
     "output_type": "execute_result"
    }
   ],
   "source": [
    "# Group by county and sum vehicle count\n",
    "vehicle_by_county = vehicle_by_zip.merge(zipcode_df, on='ZIP Code', how='left')\n",
    "vehicle_by_county = vehicle_by_county.groupby('County')['Vehicle Count'].sum().reset_index()\n",
    "vehicle_by_county"
   ]
  },
  {
   "cell_type": "code",
   "execution_count": 36,
   "metadata": {},
   "outputs": [
    {
     "name": "stdout",
     "output_type": "stream",
     "text": [
      "Total number of vehicles in NYS: 1.12e+07\n"
     ]
    }
   ],
   "source": [
    "total_vehicles = vehicle_by_zip['Vehicle Count'].sum()\n",
    "print(f'Total number of vehicles in NYS: {total_vehicles:.2e}')"
   ]
  },
  {
   "attachments": {},
   "cell_type": "markdown",
   "metadata": {},
   "source": [
    "# Future vehicle count"
   ]
  },
  {
   "cell_type": "code",
   "execution_count": null,
   "metadata": {},
   "outputs": [],
   "source": []
  }
 ],
 "metadata": {
  "kernelspec": {
   "display_name": "ev",
   "language": "python",
   "name": "python3"
  },
  "language_info": {
   "codemirror_mode": {
    "name": "ipython",
    "version": 3
   },
   "file_extension": ".py",
   "mimetype": "text/x-python",
   "name": "python",
   "nbconvert_exporter": "python",
   "pygments_lexer": "ipython3",
   "version": "3.7.16"
  },
  "orig_nbformat": 4
 },
 "nbformat": 4,
 "nbformat_minor": 2
}
