{
 "cells": [
  {
   "cell_type": "code",
   "execution_count": 1,
   "metadata": {},
   "outputs": [],
   "source": [
    "import numpy as np\n",
    "import pandas as pd"
   ]
  },
  {
   "cell_type": "code",
   "execution_count": 2,
   "metadata": {},
   "outputs": [],
   "source": [
    "df = pd.read_csv('./NYSERDA_Data/Current Registrations.csv')"
   ]
  },
  {
   "cell_type": "code",
   "execution_count": 4,
   "metadata": {},
   "outputs": [
    {
     "data": {
      "text/plain": [
       "<bound method NDFrame.head of          Vehicle Count ZIP Code RegistrationMonth  Vehicle_Index  DMV_ID  \\\n",
       "0                    1    14150          3/1/2023         203055      73   \n",
       "1                    1    11372          3/1/2023          62208      73   \n",
       "2                    1    10940          3/1/2023         715613      73   \n",
       "3                    1    14136          3/1/2023          11732      73   \n",
       "4                    1    11021          3/1/2023          68814      73   \n",
       "...                ...      ...               ...            ...     ...   \n",
       "1048570              3    74134          2/1/2023          16568      73   \n",
       "1048571              3    74134         12/1/2022          16499      73   \n",
       "1048572              3    74134          1/1/2022          47638      73   \n",
       "1048573              3    74134          4/1/2022          35931      73   \n",
       "1048574              3    74134         10/1/2022           6367      73   \n",
       "\n",
       "        Registration_Valid_Date  County_GEOID  \n",
       "0                       00:00.0           NaN  \n",
       "1                       00:00.0           NaN  \n",
       "2                       00:00.0           NaN  \n",
       "3                       00:00.0           NaN  \n",
       "4                       00:00.0           NaN  \n",
       "...                         ...           ...  \n",
       "1048570                 00:00.0           NaN  \n",
       "1048571                 00:00.0           NaN  \n",
       "1048572                 00:00.0           NaN  \n",
       "1048573                 00:00.0           NaN  \n",
       "1048574                 00:00.0           NaN  \n",
       "\n",
       "[1048305 rows x 7 columns]>"
      ]
     },
     "execution_count": 4,
     "metadata": {},
     "output_type": "execute_result"
    }
   ],
   "source": [
    "df['ZIP Code']\n",
    "df = df[df['ZIP Code'] != 'Error']\n",
    "df.head"
   ]
  },
  {
   "cell_type": "code",
   "execution_count": 6,
   "metadata": {},
   "outputs": [
    {
     "name": "stdout",
     "output_type": "stream",
     "text": [
      "     ZIP Code  Vehicle Count\n",
      "0       10001            481\n",
      "1       10002           1095\n",
      "2       10003            600\n",
      "3       10004            155\n",
      "4       10005            110\n",
      "...       ...            ...\n",
      "3962    99021              1\n",
      "3963    99109              1\n",
      "3964    99201              1\n",
      "3965    99501              1\n",
      "3966    99503              1\n",
      "\n",
      "[3967 rows x 2 columns]\n"
     ]
    }
   ],
   "source": [
    "zip_vehicles = df.groupby('ZIP Code')['Vehicle Count'].sum().reset_index()\n",
    "print(zip_vehicles)\n"
   ]
  },
  {
   "cell_type": "code",
   "execution_count": null,
   "metadata": {},
   "outputs": [],
   "source": []
  }
 ],
 "metadata": {
  "kernelspec": {
   "display_name": "ev",
   "language": "python",
   "name": "python3"
  },
  "language_info": {
   "codemirror_mode": {
    "name": "ipython",
    "version": 3
   },
   "file_extension": ".py",
   "mimetype": "text/x-python",
   "name": "python",
   "nbconvert_exporter": "python",
   "pygments_lexer": "ipython3",
   "version": "3.7.16"
  },
  "orig_nbformat": 4
 },
 "nbformat": 4,
 "nbformat_minor": 2
}
