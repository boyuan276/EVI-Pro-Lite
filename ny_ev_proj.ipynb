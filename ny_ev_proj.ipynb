{
 "cells": [
  {
   "attachments": {},
   "cell_type": "markdown",
   "metadata": {},
   "source": [
    "# Introduction\n",
    "\n",
    "EV charging demand projection by county in New York State."
   ]
  },
  {
   "attachments": {},
   "cell_type": "markdown",
   "metadata": {},
   "source": [
    "# Packages"
   ]
  },
  {
   "cell_type": "code",
   "execution_count": 1,
   "metadata": {},
   "outputs": [],
   "source": [
    "import os\n",
    "import numpy as np\n",
    "import pandas as pd\n",
    "import EVIProLite_LoadPlotting"
   ]
  },
  {
   "cell_type": "code",
   "execution_count": 2,
   "metadata": {},
   "outputs": [],
   "source": [
    "# Set up directories\n",
    "cwd = os.getcwd()\n",
    "input_dir = os.path.join(cwd, 'InputData')\n",
    "output_dir = os.path.join(cwd, 'OutputData')"
   ]
  },
  {
   "cell_type": "code",
   "execution_count": 3,
   "metadata": {},
   "outputs": [
    {
     "name": "stdout",
     "output_type": "stream",
     "text": [
      "API key found in file.\n"
     ]
    }
   ],
   "source": [
    "# Set up API key\n",
    "api_key_file = 'nrel_api_key.txt'\n",
    "\n",
    "if os.path.isfile(api_key_file):\n",
    "    # Read API key from file\n",
    "    with open(api_key_file, 'r') as f:\n",
    "        api_key = f.read()\n",
    "        print('API key found in file.')\n",
    "else:\n",
    "    print('API key not found in file. Please enter your API key below.')\n",
    "    api_key = input('Enter API key: ')\n",
    "\n",
    "# Check if API key is valid\n",
    "if len(api_key) != 40:\n",
    "    Warning('API key is not valid. Use the demo key instead.')\n",
    "    api_key = 'DEMO_KEY'"
   ]
  },
  {
   "attachments": {},
   "cell_type": "markdown",
   "metadata": {},
   "source": [
    "# Read vehicle count data"
   ]
  },
  {
   "cell_type": "code",
   "execution_count": null,
   "metadata": {},
   "outputs": [],
   "source": []
  }
 ],
 "metadata": {
  "kernelspec": {
   "display_name": "ev",
   "language": "python",
   "name": "python3"
  },
  "language_info": {
   "codemirror_mode": {
    "name": "ipython",
    "version": 3
   },
   "file_extension": ".py",
   "mimetype": "text/x-python",
   "name": "python",
   "nbconvert_exporter": "python",
   "pygments_lexer": "ipython3",
   "version": "3.7.16"
  },
  "orig_nbformat": 4
 },
 "nbformat": 4,
 "nbformat_minor": 2
}
